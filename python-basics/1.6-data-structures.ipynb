{
 "cells": [
  {
   "cell_type": "code",
   "execution_count": 19,
   "metadata": {},
   "outputs": [],
   "source": [
    "user_names_list = [\"anil\",233,23,2332,43,56,7]\n",
    "roll_numeber = range(1, 10)\n"
   ]
  },
  {
   "cell_type": "code",
   "execution_count": 25,
   "metadata": {},
   "outputs": [
    {
     "name": "stdout",
     "output_type": "stream",
     "text": [
      "['anil', 233, 23, 2332, 43, 56]\n"
     ]
    }
   ],
   "source": [
    "## slicing\n",
    "print(user_names_list[0:-1])  # ['anil', 233]"
   ]
  },
  {
   "cell_type": "code",
   "execution_count": 27,
   "metadata": {},
   "outputs": [
    {
     "name": "stdout",
     "output_type": "stream",
     "text": [
      "['anil', 233, 23, 2332, 43, 56, 7, 'suresh', 'suresh']\n"
     ]
    }
   ],
   "source": [
    "user_names_list.append(\"suresh\")\n",
    "print(user_names_list)  # ['anil', 233, 23, 2332, 43, 56, 7, 'suresh']"
   ]
  },
  {
   "cell_type": "code",
   "execution_count": 32,
   "metadata": {},
   "outputs": [
    {
     "name": "stdout",
     "output_type": "stream",
     "text": [
      "7\n"
     ]
    }
   ],
   "source": [
    "index_of_suresh = user_names_list.index(\"suresh\")\n",
    "print(index_of_suresh)  # 7"
   ]
  },
  {
   "cell_type": "code",
   "execution_count": 34,
   "metadata": {},
   "outputs": [
    {
     "name": "stdout",
     "output_type": "stream",
     "text": [
      "['anil', 23, 43]\n"
     ]
    }
   ],
   "source": [
    "## slicing with step size\n",
    "print(user_names_list[0:5:2])  # ['anil', 23, 43]"
   ]
  },
  {
   "cell_type": "code",
   "execution_count": null,
   "metadata": {},
   "outputs": [
    {
     "name": "stdout",
     "output_type": "stream",
     "text": [
      "[1, 4, 9, 16, 25, 36, 49, 64, 81]\n"
     ]
    }
   ],
   "source": [
    "## list comprehension similar to map in functional programming\n",
    "roll_numeber_list = list(range(1, 10))\n",
    "def square(x):\n",
    "    return x * x\n",
    "squared_roll_number = [square(x) for x in roll_numeber_list]\n",
    "print(squared_roll_number)  # [0.5, 1.0, 1.5, 2.0, 2.5, 3.0, 3.5, 4.0, 4.5]"
   ]
  },
  {
   "cell_type": "code",
   "execution_count": 42,
   "metadata": {},
   "outputs": [
    {
     "name": "stdout",
     "output_type": "stream",
     "text": [
      "[('anil', 32), ('suresh', 2), ('ramesh', 3)]\n"
     ]
    }
   ],
   "source": [
    "## multiple loops list comprehensiton\n",
    "names = [\"anil\", \"suresh\", \"ramesh\"]\n",
    "numbers = [32, 2, 3]\n",
    "names_numbers = [(name, numbers[index]) for (index,name) in enumerate(names)]\n",
    "print(names_numbers)"
   ]
  },
  {
   "cell_type": "code",
   "execution_count": null,
   "metadata": {},
   "outputs": [],
   "source": []
  }
 ],
 "metadata": {
  "kernelspec": {
   "display_name": "python-basics",
   "language": "python",
   "name": "python3"
  },
  "language_info": {
   "codemirror_mode": {
    "name": "ipython",
    "version": 3
   },
   "file_extension": ".py",
   "mimetype": "text/x-python",
   "name": "python",
   "nbconvert_exporter": "python",
   "pygments_lexer": "ipython3",
   "version": "3.13.2"
  }
 },
 "nbformat": 4,
 "nbformat_minor": 2
}
