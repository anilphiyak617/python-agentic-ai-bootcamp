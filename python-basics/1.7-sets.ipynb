{
 "cells": [
  {
   "cell_type": "code",
   "execution_count": 15,
   "metadata": {},
   "outputs": [
    {
     "name": "stdout",
     "output_type": "stream",
     "text": [
      "{1, 2, 3, 4, 5, 6, 7}\n",
      "{1, 2, 3, 4.5, 'hello', (1, 2)}\n"
     ]
    }
   ],
   "source": [
    "## create a set\n",
    "roll_set = {1, 2, 3, 4, 5, 6,7,7}\n",
    "print(roll_set)\n",
    "\n",
    "# set with mix vars\n",
    "mix_set = {1, 2, 3, 4.5, \"hello\", (1, 2)}\n",
    "print(mix_set)\n"
   ]
  },
  {
   "cell_type": "code",
   "execution_count": 16,
   "metadata": {},
   "outputs": [
    {
     "name": "stdout",
     "output_type": "stream",
     "text": [
      "mix set {1, 2, 3, 4.5, 'hello', (1, 2)}\n"
     ]
    }
   ],
   "source": [
    "print(f'mix set {mix_set}')"
   ]
  },
  {
   "cell_type": "code",
   "execution_count": 8,
   "metadata": {},
   "outputs": [
    {
     "name": "stdout",
     "output_type": "stream",
     "text": [
      "mix set after removing 4.5 {1, 2, 3, 'hello', (1, 2)}\n"
     ]
    }
   ],
   "source": [
    "mix_set.remove(4.5)\n",
    "print(f'mix set after removing 4.5 {mix_set}')"
   ]
  },
  {
   "cell_type": "code",
   "execution_count": 17,
   "metadata": {},
   "outputs": [
    {
     "name": "stdout",
     "output_type": "stream",
     "text": [
      "mix set after removing \"hello\" {1, 2, 3, 4.5, (1, 2)}\n"
     ]
    }
   ],
   "source": [
    "mix_set.remove(\"hello\")\n",
    "print(f'mix set after removing \"hello\" {mix_set}')"
   ]
  },
  {
   "cell_type": "code",
   "execution_count": 18,
   "metadata": {},
   "outputs": [
    {
     "name": "stdout",
     "output_type": "stream",
     "text": [
      "mix set after removing (1, 2) {1, 2, 3, 4.5}\n"
     ]
    }
   ],
   "source": [
    "mix_set.remove((1, 2))\n",
    "print(f'mix set after removing (1, 2) {mix_set}')"
   ]
  },
  {
   "cell_type": "code",
   "execution_count": 19,
   "metadata": {},
   "outputs": [
    {
     "name": "stdout",
     "output_type": "stream",
     "text": [
      "a == b: True\n"
     ]
    }
   ],
   "source": [
    "a = (1,2)\n",
    "b = (1,2)\n",
    "print(f'a == b: {a == b}')"
   ]
  },
  {
   "cell_type": "code",
   "execution_count": 26,
   "metadata": {},
   "outputs": [
    {
     "name": "stdout",
     "output_type": "stream",
     "text": [
      "set1 intersection set2: {3}\n",
      "set1 union set2: {3}\n"
     ]
    }
   ],
   "source": [
    "## set methods\n",
    "\n",
    "set1 = {1, 2, 3}\n",
    "set2 = {3, 4, 5}\n",
    "\n",
    "print(f'set1 intersection set2: {set1.intersection(set2)}')\n",
    "# modify set1 inplace to keep only elements that are also in set2\n",
    "set1.intersection_update(set2)\n",
    "print(f'set1 union set2: {set1}')\n",
    "\n"
   ]
  },
  {
   "cell_type": "code",
   "execution_count": null,
   "metadata": {},
   "outputs": [],
   "source": []
  },
  {
   "cell_type": "code",
   "execution_count": null,
   "metadata": {},
   "outputs": [],
   "source": []
  }
 ],
 "metadata": {
  "kernelspec": {
   "display_name": "python-basics",
   "language": "python",
   "name": "python3"
  },
  "language_info": {
   "codemirror_mode": {
    "name": "ipython",
    "version": 3
   },
   "file_extension": ".py",
   "mimetype": "text/x-python",
   "name": "python",
   "nbconvert_exporter": "python",
   "pygments_lexer": "ipython3",
   "version": "3.13.2"
  }
 },
 "nbformat": 4,
 "nbformat_minor": 2
}
