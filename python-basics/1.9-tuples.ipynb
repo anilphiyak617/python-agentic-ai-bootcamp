{
 "cells": [
  {
   "cell_type": "code",
   "execution_count": 1,
   "metadata": {},
   "outputs": [
    {
     "name": "stdout",
     "output_type": "stream",
     "text": [
      "('John', 'Doe', 20, 'Computer Science')\n"
     ]
    }
   ],
   "source": [
    "## tuples represent a sequence of immutable objects\n",
    "# tuples are defined by enclosing the elements in parentheses\n",
    "# tuples can be nested, like lists\n",
    "# tuples can be used as keys in dictionaries\n",
    "\n",
    "student = (\"John\", \"Doe\", 20, \"Computer Science\")\n",
    "print(student)\n",
    "\n"
   ]
  },
  {
   "cell_type": "code",
   "execution_count": null,
   "metadata": {},
   "outputs": [
    {
     "name": "stdout",
     "output_type": "stream",
     "text": [
      "John\n",
      "('Doe', 20, 'Computer Science')\n"
     ]
    }
   ],
   "source": [
    "## operations on tuples\n",
    "\n",
    "# accessing elements\n",
    "print(student[0])  # Output: John\n",
    "print(student[1:])  # Output: Doe"
   ]
  },
  {
   "cell_type": "code",
   "execution_count": 4,
   "metadata": {},
   "outputs": [
    {
     "name": "stdout",
     "output_type": "stream",
     "text": [
      "('John', 'Doe', 20, 'Computer Science', 'Ram', 'Sharma', 22, 'Mathematics')\n"
     ]
    }
   ],
   "source": [
    "##concatenation\n",
    "ram = (\"Ram\", \"Sharma\", 22, \"Mathematics\")\n",
    "# concatenation of tuples\n",
    "combined_student = student + ram\n",
    "print(combined_student)"
   ]
  },
  {
   "cell_type": "code",
   "execution_count": 7,
   "metadata": {},
   "outputs": [
    {
     "name": "stdout",
     "output_type": "stream",
     "text": [
      "('John', 'Doe', 20, 'Computer Science', 'John', 'Doe', 20, 'Computer Science')\n"
     ]
    }
   ],
   "source": [
    "## repetition\n",
    "# repetition of tuples\n",
    "repeated_student = student * 2\n",
    "print(repeated_student)"
   ]
  },
  {
   "cell_type": "code",
   "execution_count": 8,
   "metadata": {},
   "outputs": [
    {
     "name": "stdout",
     "output_type": "stream",
     "text": [
      "Tuples are immutable, cannot change elements.\n"
     ]
    }
   ],
   "source": [
    "## immutability test\n",
    "try:\n",
    "    student[0] = \"Jane\"  # Attempting to change the first element\n",
    "except TypeError:\n",
    "    print(\"Tuples are immutable, cannot change elements.\")"
   ]
  },
  {
   "cell_type": "code",
   "execution_count": 9,
   "metadata": {},
   "outputs": [
    {
     "name": "stdout",
     "output_type": "stream",
     "text": [
      "John\n",
      "Doe\n",
      "20\n",
      "Computer Science\n"
     ]
    }
   ],
   "source": [
    "## packing and unpacking of tuples\n",
    "# packing\n",
    "student_data = (\"John\", \"Doe\", 20, \"Computer Science\")\n",
    "# unpacking\n",
    "name, surname, age, field_of_study = student_data\n",
    "print(name)  # Output: John\n",
    "print(surname)  # Output: Doe\n",
    "print(age)  # Output: 20\n",
    "print(field_of_study)  # Output: Computer Science"
   ]
  },
  {
   "cell_type": "code",
   "execution_count": 15,
   "metadata": {},
   "outputs": [
    {
     "name": "stdout",
     "output_type": "stream",
     "text": [
      "John other_info: Doe 20 subject: Computer Science\n"
     ]
    }
   ],
   "source": [
    "## using * unpacking with *\n",
    "first_name, *other_info,subject = student_data\n",
    "print(first_name, 'other_info:',*other_info,\"subject:\",subject)  # Output: John"
   ]
  },
  {
   "cell_type": "code",
   "execution_count": null,
   "metadata": {},
   "outputs": [],
   "source": []
  }
 ],
 "metadata": {
  "kernelspec": {
   "display_name": "python-basics",
   "language": "python",
   "name": "python3"
  },
  "language_info": {
   "codemirror_mode": {
    "name": "ipython",
    "version": 3
   },
   "file_extension": ".py",
   "mimetype": "text/x-python",
   "name": "python",
   "nbconvert_exporter": "python",
   "pygments_lexer": "ipython3",
   "version": "3.13.2"
  }
 },
 "nbformat": 4,
 "nbformat_minor": 2
}
