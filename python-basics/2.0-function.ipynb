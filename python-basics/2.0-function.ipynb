{
 "cells": [
  {
   "cell_type": "code",
   "execution_count": 1,
   "metadata": {},
   "outputs": [],
   "source": [
    "def calculate_sum(*args):\n",
    "    \"\"\"\n",
    "    Calculate the sum of all arguments passed to the function.\n",
    "    \n",
    "    :param args: Variable length argument list\n",
    "    :return: Sum of all arguments\n",
    "    \"\"\"\n",
    "    return sum(args)"
   ]
  },
  {
   "cell_type": "code",
   "execution_count": 2,
   "metadata": {},
   "outputs": [
    {
     "name": "stdout",
     "output_type": "stream",
     "text": [
      "15\n"
     ]
    }
   ],
   "source": [
    "print(calculate_sum(1, 2, 3, 4, 5))  # Output: 15"
   ]
  },
  {
   "cell_type": "code",
   "execution_count": null,
   "metadata": {},
   "outputs": [
    {
     "name": "stdout",
     "output_type": "stream",
     "text": [
      "6\n"
     ]
    }
   ],
   "source": [
    "## keywords arguments\n",
    "def calculate_sum_with_keywords(**kwargs):\n",
    "    \"\"\"\n",
    "    Calculate the sum of values from keyword arguments.\n",
    "    \n",
    "    :param kwargs: Keyword arguments where values are summed\n",
    "    :return: Sum of all values in kwargs\n",
    "    \"\"\"\n",
    "    return sum(kwargs.values())\n",
    "\n",
    "print(calculate_sum_with_keywords(a=1, b=2, c=3))  # Output: 6"
   ]
  },
  {
   "cell_type": "code",
   "execution_count": 6,
   "metadata": {},
   "outputs": [
    {
     "name": "stdout",
     "output_type": "stream",
     "text": [
      "6\n"
     ]
    }
   ],
   "source": [
    "## passing a dictionary as an arguement\n",
    "\n",
    "def calculate_sum_from_dict(data):\n",
    "    \"\"\"\n",
    "    Calculate the sum of values in a dictionary.\n",
    "    \n",
    "    :param data: Dictionary with numeric values\n",
    "    :return: Sum of all values in the dictionary\n",
    "    \"\"\"\n",
    "    return sum(data.values())\n",
    "\n",
    "print(calculate_sum_from_dict({\"a\": 1, \"b\": 2, \"c\": 3}))"
   ]
  },
  {
   "cell_type": "code",
   "execution_count": 8,
   "metadata": {},
   "outputs": [
    {
     "name": "stdout",
     "output_type": "stream",
     "text": [
      "Hello, World!\n",
      "None\n"
     ]
    }
   ],
   "source": [
    "## A function returning nothing\n",
    "\n",
    "def print_message(message):\n",
    "    \"\"\"\n",
    "    Print a message to the console.\n",
    "    \n",
    "    :param message: The message to print\n",
    "    \"\"\"\n",
    "    print(message)\n",
    "    \n",
    "    return None\n",
    "    \n",
    "print(print_message(\"Hello, World!\"))  # Output: Hello, World!"
   ]
  },
  {
   "cell_type": "code",
   "execution_count": 10,
   "metadata": {},
   "outputs": [
    {
     "name": "stdout",
     "output_type": "stream",
     "text": [
      "25\n",
      "25\n"
     ]
    }
   ],
   "source": [
    "## lamda functions\n",
    "def square(x):\n",
    "    \"\"\"\n",
    "    Return the square of a number using a lambda function.\n",
    "    \n",
    "    :param x: Number to be squared\n",
    "    :return: Square of the number\n",
    "    \"\"\"\n",
    "    return x ** 2\n",
    "\n",
    "## Lambda function to square a number\n",
    "square_lambda = lambda x: x ** 2\n",
    "\n",
    "print(square(5))  # Output: 25\n",
    "print(square_lambda(5))  # Output: 25"
   ]
  },
  {
   "cell_type": "code",
   "execution_count": null,
   "metadata": {},
   "outputs": [
    {
     "name": "stdout",
     "output_type": "stream",
     "text": [
      "squared_numbers [1, 4, 9, 16, 25]\n",
      "map-functions [1, 4, 9, 16, 25]\n"
     ]
    }
   ],
   "source": [
    "## Maps in Python\n",
    "number_list = [1, 2, 3, 4, 5]\n",
    "\n",
    "## GOAL to create a new list with the squares of the numbers in number_list\n",
    "\n",
    "## using list comprehension\n",
    "squared_numbers = [ num**2 for num in number_list]\n",
    "print('squared_numbers',squared_numbers)\n",
    "\n",
    "## using map function\n",
    "squared_numbers_map = list(map(lambda x: x**2, number_list))\n",
    "print('map-functions', squared_numbers_map)"
   ]
  },
  {
   "cell_type": "code",
   "execution_count": null,
   "metadata": {},
   "outputs": [],
   "source": []
  },
  {
   "cell_type": "code",
   "execution_count": null,
   "metadata": {},
   "outputs": [],
   "source": []
  }
 ],
 "metadata": {
  "kernelspec": {
   "display_name": "python-basics",
   "language": "python",
   "name": "python3"
  },
  "language_info": {
   "codemirror_mode": {
    "name": "ipython",
    "version": 3
   },
   "file_extension": ".py",
   "mimetype": "text/x-python",
   "name": "python",
   "nbconvert_exporter": "python",
   "pygments_lexer": "ipython3",
   "version": "3.13.2"
  }
 },
 "nbformat": 4,
 "nbformat_minor": 2
}
