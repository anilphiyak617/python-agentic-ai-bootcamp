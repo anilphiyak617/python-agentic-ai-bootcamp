{
 "cells": [
  {
   "cell_type": "code",
   "execution_count": 4,
   "id": "db21268f",
   "metadata": {},
   "outputs": [
    {
     "data": {
      "text/plain": [
       "range(0, 5)"
      ]
     },
     "execution_count": 4,
     "metadata": {},
     "output_type": "execute_result"
    }
   ],
   "source": [
    "range(0,5) # range is a built-in function in Python 3 that returns a sequence of numbers"
   ]
  },
  {
   "cell_type": "code",
   "execution_count": 5,
   "id": "8d7bd5b3",
   "metadata": {},
   "outputs": [
    {
     "name": "stdout",
     "output_type": "stream",
     "text": [
      "<class 'range'>\n"
     ]
    }
   ],
   "source": [
    "print(type(range(0,5)))  # This will print <class 'range'>, indicating that range is a built-in type"
   ]
  },
  {
   "cell_type": "code",
   "execution_count": 9,
   "id": "8ed3eff3",
   "metadata": {},
   "outputs": [
    {
     "name": "stdout",
     "output_type": "stream",
     "text": [
      "01234"
     ]
    }
   ],
   "source": [
    "array = range(0, 5)  # Create a range object from 0 to 4\n",
    "for i in array:  # Iterate through the range object\n",
    "    print(i,end=\"\")  # Print each number in the range"
   ]
  },
  {
   "cell_type": "code",
   "execution_count": 13,
   "id": "f4413b0d",
   "metadata": {},
   "outputs": [
    {
     "name": "stdout",
     "output_type": "stream",
     "text": [
      "[0, 1, 2, 3, 4]\n",
      "<class 'list'>\n"
     ]
    }
   ],
   "source": [
    "arrar = list(range(0, 5))  # Convert the range object to a list\n",
    "print(arrar)  # Print the list, which will be [0, 1, 2, 3, 4]\n",
    "print(type(arrar))  # This will print <class 'list'>, indicating that arrar is a list"
   ]
  },
  {
   "cell_type": "code",
   "execution_count": null,
   "id": "a1823787",
   "metadata": {},
   "outputs": [],
   "source": []
  },
  {
   "cell_type": "code",
   "execution_count": 19,
   "id": "74b2d77a",
   "metadata": {},
   "outputs": [],
   "source": [
    "user_names_list = [\"anil\",233,23,2332,43,56,7]\n",
    "roll_numeber = range(1, 10)\n"
   ]
  },
  {
   "cell_type": "code",
   "execution_count": 25,
   "id": "f7d506a5",
   "metadata": {},
   "outputs": [
    {
     "name": "stdout",
     "output_type": "stream",
     "text": [
      "['anil', 233, 23, 2332, 43, 56]\n"
     ]
    }
   ],
   "source": [
    "## slicing\n",
    "print(user_names_list[0:-1])  # ['anil', 233]"
   ]
  },
  {
   "cell_type": "code",
   "execution_count": 27,
   "id": "54f5d5eb",
   "metadata": {},
   "outputs": [
    {
     "name": "stdout",
     "output_type": "stream",
     "text": [
      "['anil', 233, 23, 2332, 43, 56, 7, 'suresh', 'suresh']\n"
     ]
    }
   ],
   "source": [
    "user_names_list.append(\"suresh\")\n",
    "print(user_names_list)  # ['anil', 233, 23, 2332, 43, 56, 7, 'suresh']"
   ]
  },
  {
   "cell_type": "code",
   "execution_count": 32,
   "id": "91190b7c",
   "metadata": {},
   "outputs": [
    {
     "name": "stdout",
     "output_type": "stream",
     "text": [
      "7\n"
     ]
    }
   ],
   "source": [
    "index_of_suresh = user_names_list.index(\"suresh\")\n",
    "print(index_of_suresh)  # 7"
   ]
  },
  {
   "cell_type": "code",
   "execution_count": 34,
   "id": "3dc58e3b",
   "metadata": {},
   "outputs": [
    {
     "name": "stdout",
     "output_type": "stream",
     "text": [
      "['anil', 23, 43]\n"
     ]
    }
   ],
   "source": [
    "## slicing with step size\n",
    "print(user_names_list[0:5:2])  # ['anil', 23, 43]"
   ]
  },
  {
   "cell_type": "code",
   "execution_count": null,
   "id": "a7ae86d8",
   "metadata": {},
   "outputs": [
    {
     "name": "stdout",
     "output_type": "stream",
     "text": [
      "[1, 4, 9, 16, 25, 36, 49, 64, 81]\n"
     ]
    }
   ],
   "source": [
    "## list comprehension similar to map in functional programming\n",
    "roll_numeber_list = list(range(1, 10))\n",
    "def square(x):\n",
    "    return x * x\n",
    "squared_roll_number = [square(x) for x in roll_numeber_list]\n",
    "print(squared_roll_number)  # [0.5, 1.0, 1.5, 2.0, 2.5, 3.0, 3.5, 4.0, 4.5]"
   ]
  },
  {
   "cell_type": "code",
   "execution_count": 42,
   "id": "e465a1b2",
   "metadata": {},
   "outputs": [
    {
     "name": "stdout",
     "output_type": "stream",
     "text": [
      "[('anil', 32), ('suresh', 2), ('ramesh', 3)]\n"
     ]
    }
   ],
   "source": [
    "## multiple loops list comprehensiton\n",
    "names = [\"anil\", \"suresh\", \"ramesh\"]\n",
    "numbers = [32, 2, 3]\n",
    "names_numbers = [(name, numbers[index]) for (index,name) in enumerate(names)]\n",
    "print(names_numbers)"
   ]
  },
  {
   "cell_type": "code",
   "execution_count": null,
   "id": "fb509d75",
   "metadata": {},
   "outputs": [],
   "source": []
  },
  {
   "cell_type": "code",
   "execution_count": 15,
   "id": "fe61604f",
   "metadata": {},
   "outputs": [
    {
     "name": "stdout",
     "output_type": "stream",
     "text": [
      "{1, 2, 3, 4, 5, 6, 7}\n",
      "{1, 2, 3, 4.5, 'hello', (1, 2)}\n"
     ]
    }
   ],
   "source": [
    "## create a set\n",
    "roll_set = {1, 2, 3, 4, 5, 6,7,7}\n",
    "print(roll_set)\n",
    "\n",
    "# set with mix vars\n",
    "mix_set = {1, 2, 3, 4.5, \"hello\", (1, 2)}\n",
    "print(mix_set)\n"
   ]
  },
  {
   "cell_type": "code",
   "execution_count": 16,
   "id": "21580ec1",
   "metadata": {},
   "outputs": [
    {
     "name": "stdout",
     "output_type": "stream",
     "text": [
      "mix set {1, 2, 3, 4.5, 'hello', (1, 2)}\n"
     ]
    }
   ],
   "source": [
    "print(f'mix set {mix_set}')"
   ]
  },
  {
   "cell_type": "code",
   "execution_count": 8,
   "id": "dba12617",
   "metadata": {},
   "outputs": [
    {
     "name": "stdout",
     "output_type": "stream",
     "text": [
      "mix set after removing 4.5 {1, 2, 3, 'hello', (1, 2)}\n"
     ]
    }
   ],
   "source": [
    "mix_set.remove(4.5)\n",
    "print(f'mix set after removing 4.5 {mix_set}')"
   ]
  },
  {
   "cell_type": "code",
   "execution_count": 17,
   "id": "5d2787f8",
   "metadata": {},
   "outputs": [
    {
     "name": "stdout",
     "output_type": "stream",
     "text": [
      "mix set after removing \"hello\" {1, 2, 3, 4.5, (1, 2)}\n"
     ]
    }
   ],
   "source": [
    "mix_set.remove(\"hello\")\n",
    "print(f'mix set after removing \"hello\" {mix_set}')"
   ]
  },
  {
   "cell_type": "code",
   "execution_count": 18,
   "id": "5b176355",
   "metadata": {},
   "outputs": [
    {
     "name": "stdout",
     "output_type": "stream",
     "text": [
      "mix set after removing (1, 2) {1, 2, 3, 4.5}\n"
     ]
    }
   ],
   "source": [
    "mix_set.remove((1, 2))\n",
    "print(f'mix set after removing (1, 2) {mix_set}')"
   ]
  },
  {
   "cell_type": "code",
   "execution_count": 19,
   "id": "fcbb42a3",
   "metadata": {},
   "outputs": [
    {
     "name": "stdout",
     "output_type": "stream",
     "text": [
      "a == b: True\n"
     ]
    }
   ],
   "source": [
    "a = (1,2)\n",
    "b = (1,2)\n",
    "print(f'a == b: {a == b}')"
   ]
  },
  {
   "cell_type": "code",
   "execution_count": 26,
   "id": "bb09ae54",
   "metadata": {},
   "outputs": [
    {
     "name": "stdout",
     "output_type": "stream",
     "text": [
      "set1 intersection set2: {3}\n",
      "set1 union set2: {3}\n"
     ]
    }
   ],
   "source": [
    "## set methods\n",
    "\n",
    "set1 = {1, 2, 3}\n",
    "set2 = {3, 4, 5}\n",
    "\n",
    "print(f'set1 intersection set2: {set1.intersection(set2)}')\n",
    "# modify set1 inplace to keep only elements that are also in set2\n",
    "set1.intersection_update(set2)\n",
    "print(f'set1 union set2: {set1}')\n",
    "\n"
   ]
  },
  {
   "cell_type": "code",
   "execution_count": null,
   "id": "64108d30",
   "metadata": {},
   "outputs": [],
   "source": []
  },
  {
   "cell_type": "code",
   "execution_count": null,
   "id": "dedcbd75",
   "metadata": {},
   "outputs": [],
   "source": []
  },
  {
   "cell_type": "code",
   "execution_count": null,
   "id": "091d0d77",
   "metadata": {},
   "outputs": [
    {
     "name": "stdout",
     "output_type": "stream",
     "text": [
      "Student Information: {'name': 'John Doe', 'age': 25, 3: 'sdf'}\n"
     ]
    }
   ],
   "source": [
    "## This script demonstrates the use of a dictionary in Python.\n",
    "student = {\n",
    "    \"name\": \"John Doe\",\n",
    "    \"age\": 25,\n",
    "    3:\"sdf\"\n",
    "}\n",
    "\n",
    "print(\"Student Information:\",student)\n",
    "\n",
    "\n"
   ]
  },
  {
   "cell_type": "code",
   "execution_count": 12,
   "id": "33fb8883",
   "metadata": {},
   "outputs": [
    {
     "name": "stdout",
     "output_type": "stream",
     "text": [
      "Name: John Doe\n",
      "Age: 25\n",
      "ID: Not Found\n"
     ]
    }
   ],
   "source": [
    "## Accesing the values\n",
    "print(\"Name:\", student[\"name\"])\n",
    "print(\"Age:\", student.get(\"age\"))\n",
    "print(\"ID:\", student.get(4, \"Not Found\"))  # Using get to avoid KeyError"
   ]
  },
  {
   "cell_type": "code",
   "execution_count": 13,
   "id": "f2486093",
   "metadata": {},
   "outputs": [
    {
     "name": "stdout",
     "output_type": "stream",
     "text": [
      "After deletion: {'name': 'John Doe', 3: 'sdf'}\n"
     ]
    }
   ],
   "source": [
    "## Deleting a key-value pair\n",
    "del student[\"age\"]\n",
    "print(\"After deletion:\", student)"
   ]
  },
  {
   "cell_type": "code",
   "execution_count": null,
   "id": "28eee99e",
   "metadata": {},
   "outputs": [
    {
     "name": "stdout",
     "output_type": "stream",
     "text": [
      "<class 'dict_keys'>\n",
      "Keys: dict_keys(['name', 3])\n",
      "Values: dict_values(['John Doe', 'sdf'])\n",
      "Items: dict_items([('name', 'John Doe'), (3, 'sdf')])\n"
     ]
    }
   ],
   "source": [
    "## Dectionary methods\n",
    "keys  = student.keys()\n",
    "print(type(keys))\n",
    "\n",
    "## Iterating through the dictionary keys\n",
    "print(\"Keys:\", keys)\n",
    "\n",
    "## Iterating through the dictionary keys\n",
    "print(\"Values:\", student.values())\n",
    "\n",
    "## Iterating through the dictionary with each item as a tuple\n",
    "print(\"Items:\", student.items())"
   ]
  },
  {
   "cell_type": "code",
   "execution_count": null,
   "id": "5d53c8b7",
   "metadata": {},
   "outputs": [
    {
     "name": "stdout",
     "output_type": "stream",
     "text": [
      "name: John Doe\n",
      "3: sdf\n",
      "Key: John Doe\n",
      "Key: sdf\n",
      "name, John Doe\n",
      "3, sdf\n",
      "Student List: ['name', 3]\n"
     ]
    }
   ],
   "source": [
    "## iterating through the dictionary\n",
    "\n",
    "## Using a for loop to iterate through items\n",
    "for key, value in student.items():\n",
    "    print(f\"{key}: {value}\")\n",
    "    \n",
    "## Using a for loop to iterate through keys\n",
    "for key in student.keys():\n",
    "    print(f\"Key: {student[key]}\")\n",
    "    \n",
    "## Using a for loop to iterate through values\n",
    "for key in student:\n",
    "    print(f\"{key}, {student[key]}\")\n",
    "    \n",
    "student_list =  list(student)\n",
    "print(\"Student List:\", student_list)"
   ]
  },
  {
   "cell_type": "code",
   "execution_count": 32,
   "id": "31518ce7",
   "metadata": {},
   "outputs": [
    {
     "name": "stdout",
     "output_type": "stream",
     "text": [
      "Squared Numbers: {1: 1, 2: 4, 3: 9, 4: 16, 5: 25}\n"
     ]
    }
   ],
   "source": [
    "## Dictionaires comprhensions\n",
    "\n",
    "squared_numbers = {x: x**2 for x in range(1, 6)}\n",
    "print(\"Squared Numbers:\", squared_numbers)"
   ]
  },
  {
   "cell_type": "code",
   "execution_count": 34,
   "id": "0d7b000c",
   "metadata": {},
   "outputs": [
    {
     "name": "stdout",
     "output_type": "stream",
     "text": [
      "Filtered even Numbers: {2: 4, 4: 16, 6: 36, 8: 64, 10: 100}\n"
     ]
    }
   ],
   "source": [
    "## conditional dictionary comprehension\n",
    "filtered_numbers = {x: x**2 for x in range(1, 11) if x % 2 == 0}\n",
    "print(\"Filtered even Numbers:\", filtered_numbers)"
   ]
  },
  {
   "cell_type": "code",
   "execution_count": null,
   "id": "b0d78efc",
   "metadata": {},
   "outputs": [],
   "source": []
  },
  {
   "cell_type": "code",
   "execution_count": 1,
   "id": "2842b346",
   "metadata": {},
   "outputs": [
    {
     "name": "stdout",
     "output_type": "stream",
     "text": [
      "('John', 'Doe', 20, 'Computer Science')\n"
     ]
    }
   ],
   "source": [
    "## tuples represent a sequence of immutable objects\n",
    "# tuples are defined by enclosing the elements in parentheses\n",
    "# tuples can be nested, like lists\n",
    "# tuples can be used as keys in dictionaries\n",
    "\n",
    "student = (\"John\", \"Doe\", 20, \"Computer Science\")\n",
    "print(student)\n",
    "\n"
   ]
  },
  {
   "cell_type": "code",
   "execution_count": null,
   "id": "82c89c13",
   "metadata": {},
   "outputs": [
    {
     "name": "stdout",
     "output_type": "stream",
     "text": [
      "John\n",
      "('Doe', 20, 'Computer Science')\n"
     ]
    }
   ],
   "source": [
    "## operations on tuples\n",
    "\n",
    "# accessing elements\n",
    "print(student[0])  # Output: John\n",
    "print(student[1:])  # Output: Doe"
   ]
  },
  {
   "cell_type": "code",
   "execution_count": 4,
   "id": "de68af84",
   "metadata": {},
   "outputs": [
    {
     "name": "stdout",
     "output_type": "stream",
     "text": [
      "('John', 'Doe', 20, 'Computer Science', 'Ram', 'Sharma', 22, 'Mathematics')\n"
     ]
    }
   ],
   "source": [
    "##concatenation\n",
    "ram = (\"Ram\", \"Sharma\", 22, \"Mathematics\")\n",
    "# concatenation of tuples\n",
    "combined_student = student + ram\n",
    "print(combined_student)"
   ]
  },
  {
   "cell_type": "code",
   "execution_count": 7,
   "id": "545135a1",
   "metadata": {},
   "outputs": [
    {
     "name": "stdout",
     "output_type": "stream",
     "text": [
      "('John', 'Doe', 20, 'Computer Science', 'John', 'Doe', 20, 'Computer Science')\n"
     ]
    }
   ],
   "source": [
    "## repetition\n",
    "# repetition of tuples\n",
    "repeated_student = student * 2\n",
    "print(repeated_student)"
   ]
  },
  {
   "cell_type": "code",
   "execution_count": 8,
   "id": "89dd4ab9",
   "metadata": {},
   "outputs": [
    {
     "name": "stdout",
     "output_type": "stream",
     "text": [
      "Tuples are immutable, cannot change elements.\n"
     ]
    }
   ],
   "source": [
    "## immutability test\n",
    "try:\n",
    "    student[0] = \"Jane\"  # Attempting to change the first element\n",
    "except TypeError:\n",
    "    print(\"Tuples are immutable, cannot change elements.\")"
   ]
  },
  {
   "cell_type": "code",
   "execution_count": 9,
   "id": "9a3478d4",
   "metadata": {},
   "outputs": [
    {
     "name": "stdout",
     "output_type": "stream",
     "text": [
      "John\n",
      "Doe\n",
      "20\n",
      "Computer Science\n"
     ]
    }
   ],
   "source": [
    "## packing and unpacking of tuples\n",
    "# packing\n",
    "student_data = (\"John\", \"Doe\", 20, \"Computer Science\")\n",
    "# unpacking\n",
    "name, surname, age, field_of_study = student_data\n",
    "print(name)  # Output: John\n",
    "print(surname)  # Output: Doe\n",
    "print(age)  # Output: 20\n",
    "print(field_of_study)  # Output: Computer Science"
   ]
  },
  {
   "cell_type": "code",
   "execution_count": 15,
   "id": "70359f19",
   "metadata": {},
   "outputs": [
    {
     "name": "stdout",
     "output_type": "stream",
     "text": [
      "John other_info: Doe 20 subject: Computer Science\n"
     ]
    }
   ],
   "source": [
    "## using * unpacking with *\n",
    "first_name, *other_info,subject = student_data\n",
    "print(first_name, 'other_info:',*other_info,\"subject:\",subject)  # Output: John"
   ]
  },
  {
   "cell_type": "code",
   "execution_count": null,
   "id": "c3b23ac8",
   "metadata": {},
   "outputs": [],
   "source": []
  },
  {
   "cell_type": "code",
   "execution_count": 1,
   "id": "2f9574fe",
   "metadata": {},
   "outputs": [],
   "source": [
    "def calculate_sum(*args):\n",
    "    \"\"\"\n",
    "    Calculate the sum of all arguments passed to the function.\n",
    "    \n",
    "    :param args: Variable length argument list\n",
    "    :return: Sum of all arguments\n",
    "    \"\"\"\n",
    "    return sum(args)"
   ]
  },
  {
   "cell_type": "code",
   "execution_count": 2,
   "id": "05177757",
   "metadata": {},
   "outputs": [
    {
     "name": "stdout",
     "output_type": "stream",
     "text": [
      "15\n"
     ]
    }
   ],
   "source": [
    "print(calculate_sum(1, 2, 3, 4, 5))  # Output: 15"
   ]
  },
  {
   "cell_type": "code",
   "execution_count": null,
   "id": "0fcddd71",
   "metadata": {},
   "outputs": [
    {
     "name": "stdout",
     "output_type": "stream",
     "text": [
      "6\n"
     ]
    }
   ],
   "source": [
    "## keywords arguments\n",
    "def calculate_sum_with_keywords(**kwargs):\n",
    "    \"\"\"\n",
    "    Calculate the sum of values from keyword arguments.\n",
    "    \n",
    "    :param kwargs: Keyword arguments where values are summed\n",
    "    :return: Sum of all values in kwargs\n",
    "    \"\"\"\n",
    "    return sum(kwargs.values())\n",
    "\n",
    "print(calculate_sum_with_keywords(a=1, b=2, c=3))  # Output: 6"
   ]
  },
  {
   "cell_type": "code",
   "execution_count": 6,
   "id": "f6d271fc",
   "metadata": {},
   "outputs": [
    {
     "name": "stdout",
     "output_type": "stream",
     "text": [
      "6\n"
     ]
    }
   ],
   "source": [
    "## passing a dictionary as an arguement\n",
    "\n",
    "def calculate_sum_from_dict(data):\n",
    "    \"\"\"\n",
    "    Calculate the sum of values in a dictionary.\n",
    "    \n",
    "    :param data: Dictionary with numeric values\n",
    "    :return: Sum of all values in the dictionary\n",
    "    \"\"\"\n",
    "    return sum(data.values())\n",
    "\n",
    "print(calculate_sum_from_dict({\"a\": 1, \"b\": 2, \"c\": 3}))"
   ]
  },
  {
   "cell_type": "code",
   "execution_count": 8,
   "id": "d22736b3",
   "metadata": {},
   "outputs": [
    {
     "name": "stdout",
     "output_type": "stream",
     "text": [
      "Hello, World!\n",
      "None\n"
     ]
    }
   ],
   "source": [
    "## A function returning nothing\n",
    "\n",
    "def print_message(message):\n",
    "    \"\"\"\n",
    "    Print a message to the console.\n",
    "    \n",
    "    :param message: The message to print\n",
    "    \"\"\"\n",
    "    print(message)\n",
    "    \n",
    "    return None\n",
    "    \n",
    "print(print_message(\"Hello, World!\"))  # Output: Hello, World!"
   ]
  },
  {
   "cell_type": "code",
   "execution_count": 10,
   "id": "4aa4fce3",
   "metadata": {},
   "outputs": [
    {
     "name": "stdout",
     "output_type": "stream",
     "text": [
      "25\n",
      "25\n"
     ]
    }
   ],
   "source": [
    "## lamda functions\n",
    "def square(x):\n",
    "    \"\"\"\n",
    "    Return the square of a number using a lambda function.\n",
    "    \n",
    "    :param x: Number to be squared\n",
    "    :return: Square of the number\n",
    "    \"\"\"\n",
    "    return x ** 2\n",
    "\n",
    "## Lambda function to square a number\n",
    "square_lambda = lambda x: x ** 2\n",
    "\n",
    "print(square(5))  # Output: 25\n",
    "print(square_lambda(5))  # Output: 25"
   ]
  },
  {
   "cell_type": "code",
   "execution_count": null,
   "id": "d215e480",
   "metadata": {},
   "outputs": [
    {
     "name": "stdout",
     "output_type": "stream",
     "text": [
      "squared_numbers [1, 4, 9, 16, 25]\n",
      "map-functions [1, 4, 9, 16, 25]\n"
     ]
    }
   ],
   "source": [
    "## Maps in Python\n",
    "number_list = [1, 2, 3, 4, 5]\n",
    "\n",
    "## GOAL to create a new list with the squares of the numbers in number_list\n",
    "\n",
    "## using list comprehension\n",
    "squared_numbers = [ num**2 for num in number_list]\n",
    "print('squared_numbers',squared_numbers)\n",
    "\n",
    "## using map function\n",
    "squared_numbers_map = list(map(lambda x: x**2, number_list))\n",
    "print('map-functions', squared_numbers_map)"
   ]
  },
  {
   "cell_type": "code",
   "execution_count": null,
   "id": "6e2c7f0f",
   "metadata": {},
   "outputs": [],
   "source": []
  },
  {
   "cell_type": "code",
   "execution_count": null,
   "id": "e0cec1f2",
   "metadata": {},
   "outputs": [],
   "source": []
  },
  {
   "cell_type": "code",
   "execution_count": 2,
   "id": "f70cad39",
   "metadata": {},
   "outputs": [
    {
     "name": "stdout",
     "output_type": "stream",
     "text": [
      "Squared Roll Numbers: [1, 4, 9, 16, 25]\n",
      "Cubed Roll Numbers: [1, 8, 27, 64, 125]\n"
     ]
    }
   ],
   "source": [
    "## maps \n",
    "roll_numbers = [1, 2, 3, 4, 5]\n",
    "\n",
    "def square(x):\n",
    "    return x * x\n",
    "\n",
    "def cube(x):\n",
    "    return x * x * x\n",
    "\n",
    "# Using map to apply square and cube functions\n",
    "\n",
    "squared_roll_numbers = list(map(square, roll_numbers))\n",
    "cubed_roll_numbers = list(map(cube, roll_numbers))\n",
    "\n",
    "print(\"Squared Roll Numbers:\", squared_roll_numbers)\n",
    "print(\"Cubed Roll Numbers:\", cubed_roll_numbers)"
   ]
  },
  {
   "cell_type": "code",
   "execution_count": 6,
   "id": "1bc8b1a2",
   "metadata": {},
   "outputs": [
    {
     "name": "stdout",
     "output_type": "stream",
     "text": [
      "[1, 4, 9, 16, 25]\n"
     ]
    }
   ],
   "source": [
    "## mapping using lambda functions\n",
    "\n",
    "squared_roll_numbers_lambda = list(map(lambda x:x * x, roll_numbers))\n",
    "print(squared_roll_numbers_lambda)"
   ]
  },
  {
   "cell_type": "markdown",
   "id": "fa85453c",
   "metadata": {},
   "source": []
  },
  {
   "cell_type": "code",
   "execution_count": null,
   "id": "6ef3baa7",
   "metadata": {},
   "outputs": [],
   "source": []
  }
 ],
 "metadata": {},
 "nbformat": 4,
 "nbformat_minor": 5
}
