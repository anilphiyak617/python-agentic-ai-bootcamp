{
 "cells": [
  {
   "cell_type": "code",
   "execution_count": 1,
   "id": "f6f04cc9",
   "metadata": {},
   "outputs": [],
   "source": [
    "name =\"anil\""
   ]
  },
  {
   "cell_type": "code",
   "execution_count": 2,
   "id": "9c705eb4",
   "metadata": {},
   "outputs": [
    {
     "name": "stdout",
     "output_type": "stream",
     "text": [
      "Hello, anil!\n"
     ]
    }
   ],
   "source": [
    "print(\"Hello, \" + name + \"!\")"
   ]
  },
  {
   "cell_type": "code",
   "execution_count": 3,
   "id": "f02d6929",
   "metadata": {},
   "outputs": [
    {
     "data": {
      "text/plain": [
       "' This is a simple Python script that greets a user by name.'"
      ]
     },
     "execution_count": 3,
     "metadata": {},
     "output_type": "execute_result"
    }
   ],
   "source": [
    "''' This is a simple Python script that greets a user by name.'''"
   ]
  },
  {
   "cell_type": "code",
   "execution_count": 5,
   "id": "b50b0ff5",
   "metadata": {},
   "outputs": [],
   "source": [
    "phone_number = '233'\n",
    "def greet_user(name):\n",
    "    \"\"\"Function to greet the user.\"\"\"\n",
    "    print(f\"Hello, {name}!\")\n",
    "    "
   ]
  },
  {
   "cell_type": "code",
   "execution_count": 6,
   "id": "02a0423a",
   "metadata": {},
   "outputs": [
    {
     "name": "stdout",
     "output_type": "stream",
     "text": [
      "Hello, anil!\n"
     ]
    }
   ],
   "source": [
    "greet_user(\"anil\")"
   ]
  },
  {
   "cell_type": "code",
   "execution_count": 12,
   "id": "f6cf1a01",
   "metadata": {},
   "outputs": [
    {
     "name": "stdout",
     "output_type": "stream",
     "text": [
      "32.0\n",
      "32.0\n"
     ]
    }
   ],
   "source": [
    "num = 32\n",
    "print(float(num))\n",
    "age_str = '32'\n",
    "print(float(age_str))"
   ]
  },
  {
   "cell_type": "code",
   "execution_count": 21,
   "id": "c7fa5ec9",
   "metadata": {},
   "outputs": [
    {
     "name": "stdout",
     "output_type": "stream",
     "text": [
      "False\n",
      "True\n",
      "True\n"
     ]
    }
   ],
   "source": [
    "print(bool('')) ## empty strings are false\n",
    "print(bool('0')) ## non-empty strings are true\n",
    "print(bool(-1)) ## non-zero numbers are true"
   ]
  },
  {
   "cell_type": "code",
   "execution_count": null,
   "id": "5d969aae",
   "metadata": {},
   "outputs": [],
   "source": []
  },
  {
   "cell_type": "code",
   "execution_count": 3,
   "id": "c24baf42",
   "metadata": {},
   "outputs": [
    {
     "name": "stdout",
     "output_type": "stream",
     "text": [
      "4\n",
      "4.5\n"
     ]
    }
   ],
   "source": [
    "a = 9\n",
    "b = 2\n",
    "print(a // b)\n",
    "print(a / b)"
   ]
  },
  {
   "cell_type": "code",
   "execution_count": 5,
   "id": "85c88ac3",
   "metadata": {},
   "outputs": [
    {
     "name": "stdout",
     "output_type": "stream",
     "text": [
      "False\n"
     ]
    }
   ],
   "source": [
    "## comparistion operators\n",
    "student_age= \"32\"\n",
    "second_student_age = 32\n",
    "print(student_age == second_student_age)  # False, different types"
   ]
  },
  {
   "cell_type": "code",
   "execution_count": null,
   "id": "e795c9bc",
   "metadata": {},
   "outputs": [],
   "source": []
  },
  {
   "cell_type": "markdown",
   "id": "afcf0432",
   "metadata": {},
   "source": []
  },
  {
   "cell_type": "code",
   "execution_count": 5,
   "id": "88e8ae78",
   "metadata": {},
   "outputs": [
    {
     "name": "stdout",
     "output_type": "stream",
     "text": [
      "name is greater than or equal to 'an'\n"
     ]
    }
   ],
   "source": [
    "name = \"anil\"\n",
    "if name >=\"anil\":\n",
    "    print(\"name is greater than or equal to 'an'\")\n",
    "elif name < \"zara\":\n",
    "    print(\"name is less than 'zara'\")"
   ]
  },
  {
   "cell_type": "code",
   "execution_count": null,
   "id": "439c3130",
   "metadata": {},
   "outputs": [],
   "source": []
  },
  {
   "cell_type": "code",
   "execution_count": null,
   "id": "16569b46",
   "metadata": {},
   "outputs": [
    {
     "data": {
      "text/plain": [
       "range(0, 5)"
      ]
     },
     "execution_count": 4,
     "metadata": {},
     "output_type": "execute_result"
    }
   ],
   "source": [
    "range(0,5) # range is a built-in function in Python 3 that returns a sequence of numbers"
   ]
  },
  {
   "cell_type": "code",
   "execution_count": 5,
   "id": "e591f60a",
   "metadata": {},
   "outputs": [
    {
     "name": "stdout",
     "output_type": "stream",
     "text": [
      "<class 'range'>\n"
     ]
    }
   ],
   "source": [
    "print(type(range(0,5)))  # This will print <class 'range'>, indicating that range is a built-in type"
   ]
  },
  {
   "cell_type": "code",
   "execution_count": 9,
   "id": "ddb9a79b",
   "metadata": {},
   "outputs": [
    {
     "name": "stdout",
     "output_type": "stream",
     "text": [
      "01234"
     ]
    }
   ],
   "source": [
    "array = range(0, 5)  # Create a range object from 0 to 4\n",
    "for i in array:  # Iterate through the range object\n",
    "    print(i,end=\"\")  # Print each number in the range"
   ]
  },
  {
   "cell_type": "code",
   "execution_count": 13,
   "id": "3642fae2",
   "metadata": {},
   "outputs": [
    {
     "name": "stdout",
     "output_type": "stream",
     "text": [
      "[0, 1, 2, 3, 4]\n",
      "<class 'list'>\n"
     ]
    }
   ],
   "source": [
    "arrar = list(range(0, 5))  # Convert the range object to a list\n",
    "print(arrar)  # Print the list, which will be [0, 1, 2, 3, 4]\n",
    "print(type(arrar))  # This will print <class 'list'>, indicating that arrar is a list"
   ]
  },
  {
   "cell_type": "code",
   "execution_count": null,
   "id": "ede0cb8d",
   "metadata": {},
   "outputs": [],
   "source": []
  },
  {
   "cell_type": "code",
   "execution_count": 19,
   "id": "a6efbbfe",
   "metadata": {},
   "outputs": [],
   "source": [
    "user_names_list = [\"anil\",233,23,2332,43,56,7]\n",
    "roll_numeber = range(1, 10)\n"
   ]
  },
  {
   "cell_type": "code",
   "execution_count": 25,
   "id": "8d0cf8ac",
   "metadata": {},
   "outputs": [
    {
     "name": "stdout",
     "output_type": "stream",
     "text": [
      "['anil', 233, 23, 2332, 43, 56]\n"
     ]
    }
   ],
   "source": [
    "## slicing\n",
    "print(user_names_list[0:-1])  # ['anil', 233]"
   ]
  },
  {
   "cell_type": "code",
   "execution_count": 27,
   "id": "645e8d53",
   "metadata": {},
   "outputs": [
    {
     "name": "stdout",
     "output_type": "stream",
     "text": [
      "['anil', 233, 23, 2332, 43, 56, 7, 'suresh', 'suresh']\n"
     ]
    }
   ],
   "source": [
    "user_names_list.append(\"suresh\")\n",
    "print(user_names_list)  # ['anil', 233, 23, 2332, 43, 56, 7, 'suresh']"
   ]
  },
  {
   "cell_type": "code",
   "execution_count": 32,
   "id": "db3e23fc",
   "metadata": {},
   "outputs": [
    {
     "name": "stdout",
     "output_type": "stream",
     "text": [
      "7\n"
     ]
    }
   ],
   "source": [
    "index_of_suresh = user_names_list.index(\"suresh\")\n",
    "print(index_of_suresh)  # 7"
   ]
  },
  {
   "cell_type": "code",
   "execution_count": 34,
   "id": "93a150d0",
   "metadata": {},
   "outputs": [
    {
     "name": "stdout",
     "output_type": "stream",
     "text": [
      "['anil', 23, 43]\n"
     ]
    }
   ],
   "source": [
    "## slicing with step size\n",
    "print(user_names_list[0:5:2])  # ['anil', 23, 43]"
   ]
  },
  {
   "cell_type": "code",
   "execution_count": null,
   "id": "98805c9b",
   "metadata": {},
   "outputs": [
    {
     "name": "stdout",
     "output_type": "stream",
     "text": [
      "[1, 4, 9, 16, 25, 36, 49, 64, 81]\n"
     ]
    }
   ],
   "source": [
    "## list comprehension similar to map in functional programming\n",
    "roll_numeber_list = list(range(1, 10))\n",
    "def square(x):\n",
    "    return x * x\n",
    "squared_roll_number = [square(x) for x in roll_numeber_list]\n",
    "print(squared_roll_number)  # [0.5, 1.0, 1.5, 2.0, 2.5, 3.0, 3.5, 4.0, 4.5]"
   ]
  },
  {
   "cell_type": "code",
   "execution_count": 42,
   "id": "f510399f",
   "metadata": {},
   "outputs": [
    {
     "name": "stdout",
     "output_type": "stream",
     "text": [
      "[('anil', 32), ('suresh', 2), ('ramesh', 3)]\n"
     ]
    }
   ],
   "source": [
    "## multiple loops list comprehensiton\n",
    "names = [\"anil\", \"suresh\", \"ramesh\"]\n",
    "numbers = [32, 2, 3]\n",
    "names_numbers = [(name, numbers[index]) for (index,name) in enumerate(names)]\n",
    "print(names_numbers)"
   ]
  },
  {
   "cell_type": "code",
   "execution_count": null,
   "id": "000a3290",
   "metadata": {},
   "outputs": [],
   "source": []
  }
 ],
 "metadata": {},
 "nbformat": 4,
 "nbformat_minor": 5
}
