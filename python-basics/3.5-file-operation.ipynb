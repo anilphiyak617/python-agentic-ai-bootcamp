{
 "cells": [
  {
   "cell_type": "code",
   "execution_count": 2,
   "metadata": {},
   "outputs": [
    {
     "name": "stdout",
     "output_type": "stream",
     "text": [
      "b'# Project Title\\n\\nA brief, one-sentence description of what your Python project does.\\n\\n## Description\\n\\nProvide a more detailed explanation of your project. What problem does it solve? What are its main functionalities? Keep it concise but informative.\\n\\n## Installation\\n\\nTo get a local copy up and running, follow these simple steps.\\n\\n### Prerequisites\\n\\n*   Python 3.x (specify exact version if necessary, e.g., Python 3.8+)\\n\\n### Steps\\n\\n1.  **Clone the repository:**'\n"
     ]
    }
   ],
   "source": [
    "## reading a file\n",
    "\n",
    "with open(\"README.md\", \"rb\") as file:\n",
    "    print(file.read())"
   ]
  },
  {
   "cell_type": "code",
   "execution_count": null,
   "metadata": {},
   "outputs": [],
   "source": []
  }
 ],
 "metadata": {
  "kernelspec": {
   "display_name": "python-basics",
   "language": "python",
   "name": "python3"
  },
  "language_info": {
   "codemirror_mode": {
    "name": "ipython",
    "version": 3
   },
   "file_extension": ".py",
   "mimetype": "text/x-python",
   "name": "python",
   "nbconvert_exporter": "python",
   "pygments_lexer": "ipython3",
   "version": "3.13.2"
  }
 },
 "nbformat": 4,
 "nbformat_minor": 2
}
