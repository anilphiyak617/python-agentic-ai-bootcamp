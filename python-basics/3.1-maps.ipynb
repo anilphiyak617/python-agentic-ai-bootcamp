{
 "cells": [
  {
   "cell_type": "code",
   "execution_count": 2,
   "metadata": {},
   "outputs": [
    {
     "name": "stdout",
     "output_type": "stream",
     "text": [
      "Squared Roll Numbers: [1, 4, 9, 16, 25]\n",
      "Cubed Roll Numbers: [1, 8, 27, 64, 125]\n"
     ]
    }
   ],
   "source": [
    "## maps \n",
    "roll_numbers = [1, 2, 3, 4, 5]\n",
    "\n",
    "def square(x):\n",
    "    return x * x\n",
    "\n",
    "def cube(x):\n",
    "    return x * x * x\n",
    "\n",
    "# Using map to apply square and cube functions\n",
    "\n",
    "squared_roll_numbers = list(map(square, roll_numbers))\n",
    "cubed_roll_numbers = list(map(cube, roll_numbers))\n",
    "\n",
    "print(\"Squared Roll Numbers:\", squared_roll_numbers)\n",
    "print(\"Cubed Roll Numbers:\", cubed_roll_numbers)"
   ]
  },
  {
   "cell_type": "code",
   "execution_count": 6,
   "metadata": {},
   "outputs": [
    {
     "name": "stdout",
     "output_type": "stream",
     "text": [
      "[1, 4, 9, 16, 25]\n"
     ]
    }
   ],
   "source": [
    "## mapping using lambda functions\n",
    "\n",
    "squared_roll_numbers_lambda = list(map(lambda x:x * x, roll_numbers))\n",
    "print(squared_roll_numbers_lambda)"
   ]
  },
  {
   "cell_type": "markdown",
   "metadata": {},
   "source": []
  },
  {
   "cell_type": "code",
   "execution_count": null,
   "metadata": {},
   "outputs": [],
   "source": []
  }
 ],
 "metadata": {
  "kernelspec": {
   "display_name": "python-basics",
   "language": "python",
   "name": "python3"
  },
  "language_info": {
   "codemirror_mode": {
    "name": "ipython",
    "version": 3
   },
   "file_extension": ".py",
   "mimetype": "text/x-python",
   "name": "python",
   "nbconvert_exporter": "python",
   "pygments_lexer": "ipython3",
   "version": "3.13.2"
  }
 },
 "nbformat": 4,
 "nbformat_minor": 2
}
