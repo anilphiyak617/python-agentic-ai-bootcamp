{
 "cells": [
  {
   "cell_type": "code",
   "execution_count": null,
   "metadata": {},
   "outputs": [
    {
     "name": "stdout",
     "output_type": "stream",
     "text": [
      "Student Information: {'name': 'John Doe', 'age': 25, 3: 'sdf'}\n"
     ]
    }
   ],
   "source": [
    "## This script demonstrates the use of a dictionary in Python.\n",
    "student = {\n",
    "    \"name\": \"John Doe\",\n",
    "    \"age\": 25,\n",
    "    3:\"sdf\"\n",
    "}\n",
    "\n",
    "print(\"Student Information:\",student)\n",
    "\n",
    "\n"
   ]
  },
  {
   "cell_type": "code",
   "execution_count": 12,
   "metadata": {},
   "outputs": [
    {
     "name": "stdout",
     "output_type": "stream",
     "text": [
      "Name: John Doe\n",
      "Age: 25\n",
      "ID: Not Found\n"
     ]
    }
   ],
   "source": [
    "## Accesing the values\n",
    "print(\"Name:\", student[\"name\"])\n",
    "print(\"Age:\", student.get(\"age\"))\n",
    "print(\"ID:\", student.get(4, \"Not Found\"))  # Using get to avoid KeyError"
   ]
  },
  {
   "cell_type": "code",
   "execution_count": 13,
   "metadata": {},
   "outputs": [
    {
     "name": "stdout",
     "output_type": "stream",
     "text": [
      "After deletion: {'name': 'John Doe', 3: 'sdf'}\n"
     ]
    }
   ],
   "source": [
    "## Deleting a key-value pair\n",
    "del student[\"age\"]\n",
    "print(\"After deletion:\", student)"
   ]
  },
  {
   "cell_type": "code",
   "execution_count": null,
   "metadata": {},
   "outputs": [
    {
     "name": "stdout",
     "output_type": "stream",
     "text": [
      "<class 'dict_keys'>\n",
      "Keys: dict_keys(['name', 3])\n",
      "Values: dict_values(['John Doe', 'sdf'])\n",
      "Items: dict_items([('name', 'John Doe'), (3, 'sdf')])\n"
     ]
    }
   ],
   "source": [
    "## Dectionary methods\n",
    "keys  = student.keys()\n",
    "print(type(keys))\n",
    "\n",
    "## Iterating through the dictionary keys\n",
    "print(\"Keys:\", keys)\n",
    "\n",
    "## Iterating through the dictionary keys\n",
    "print(\"Values:\", student.values())\n",
    "\n",
    "## Iterating through the dictionary with each item as a tuple\n",
    "print(\"Items:\", student.items())"
   ]
  },
  {
   "cell_type": "code",
   "execution_count": null,
   "metadata": {},
   "outputs": [
    {
     "name": "stdout",
     "output_type": "stream",
     "text": [
      "name: John Doe\n",
      "3: sdf\n",
      "Key: John Doe\n",
      "Key: sdf\n",
      "name, John Doe\n",
      "3, sdf\n",
      "Student List: ['name', 3]\n"
     ]
    }
   ],
   "source": [
    "## iterating through the dictionary\n",
    "\n",
    "## Using a for loop to iterate through items\n",
    "for key, value in student.items():\n",
    "    print(f\"{key}: {value}\")\n",
    "    \n",
    "## Using a for loop to iterate through keys\n",
    "for key in student.keys():\n",
    "    print(f\"Key: {student[key]}\")\n",
    "    \n",
    "## Using a for loop to iterate through values\n",
    "for key in student:\n",
    "    print(f\"{key}, {student[key]}\")\n",
    "    \n",
    "student_list =  list(student)\n",
    "print(\"Student List:\", student_list)"
   ]
  },
  {
   "cell_type": "code",
   "execution_count": 32,
   "metadata": {},
   "outputs": [
    {
     "name": "stdout",
     "output_type": "stream",
     "text": [
      "Squared Numbers: {1: 1, 2: 4, 3: 9, 4: 16, 5: 25}\n"
     ]
    }
   ],
   "source": [
    "## Dictionaires comprhensions\n",
    "\n",
    "squared_numbers = {x: x**2 for x in range(1, 6)}\n",
    "print(\"Squared Numbers:\", squared_numbers)"
   ]
  },
  {
   "cell_type": "code",
   "execution_count": 34,
   "metadata": {},
   "outputs": [
    {
     "name": "stdout",
     "output_type": "stream",
     "text": [
      "Filtered even Numbers: {2: 4, 4: 16, 6: 36, 8: 64, 10: 100}\n"
     ]
    }
   ],
   "source": [
    "## conditional dictionary comprehension\n",
    "filtered_numbers = {x: x**2 for x in range(1, 11) if x % 2 == 0}\n",
    "print(\"Filtered even Numbers:\", filtered_numbers)"
   ]
  },
  {
   "cell_type": "code",
   "execution_count": null,
   "metadata": {},
   "outputs": [],
   "source": []
  }
 ],
 "metadata": {
  "kernelspec": {
   "display_name": "python-basics",
   "language": "python",
   "name": "python3"
  },
  "language_info": {
   "codemirror_mode": {
    "name": "ipython",
    "version": 3
   },
   "file_extension": ".py",
   "mimetype": "text/x-python",
   "name": "python",
   "nbconvert_exporter": "python",
   "pygments_lexer": "ipython3",
   "version": "3.13.2"
  }
 },
 "nbformat": 4,
 "nbformat_minor": 2
}
